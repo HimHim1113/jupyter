{
 "cells": [
  {
   "cell_type": "markdown",
   "metadata": {},
   "source": [
    "# Lesson4 保存したモデルを読み込んで予測をしてみよう"
   ]
  },
  {
   "cell_type": "markdown",
   "metadata": {},
   "source": [
    "## 目次\n",
    "\n",
    "- Section1 モデルの読み込み\n",
    "- Section2 データの準備\n",
    "- Section3 データの予測"
   ]
  },
  {
   "cell_type": "markdown",
   "metadata": {},
   "source": [
    "## Section1 モデルの読み込み\n",
    "\n",
    "前回のコードで学習させたモデルの読み込みをします。\n",
    "\n",
    "学習済みのモデルを読み込みをするにはkeras.models内の*load_model*関数を使います。\n",
    "\n",
    "引数は以下の通りです。\n",
    "\n",
    "|引数|説明|\n",
    "|:-:|:--|\n",
    "|filepath|読み込むモデルのパス<br>必須|\n",
    "|custom_objects|活性化関数などを自作した場合にそれを指定|\n",
    "|compile|モデルのコンパイルをするか<br>True : する（デフォルト）<br>False : しない|\n",
    "\n",
    "モデルをロードしたらsummaryメゾットでモデルの層を表示しましょう。"
   ]
  },
  {
   "cell_type": "code",
   "execution_count": null,
   "metadata": {},
   "outputs": [],
   "source": [
    "from tensorflow.keras.models import load_model\n",
    "model = load_model('learn.h5')\n",
    "model.summary()"
   ]
  },
  {
   "cell_type": "markdown",
   "metadata": {},
   "source": [
    "## Section2 データの準備\n",
    "\n",
    "次に予測をしたいデータの準備をします。\n",
    "\n",
    "animalディレクトリ内の画像データをOpenCVで読みこみ、CIFAR-10と同じサイズ（32ピクセル×32ピクセル）に変形をしNumpy配列にまとめます。"
   ]
  },
  {
   "cell_type": "code",
   "execution_count": null,
   "metadata": {},
   "outputs": [],
   "source": [
    "import cv2\n",
    "import numpy as np\n",
    "import os\n",
    "\n",
    "images = []\n",
    "dataDir = 'animal'\n",
    "files = os.listdir(dataDir)\n",
    "\n",
    "for fname in files:\n",
    "    img = cv2.imread(os.path.join(dataDir, fname))\n",
    "    img = cv2.cvtColor(img, cv2.COLOR_BGR2RGB)\n",
    "    img = cv2.resize(img, dsize=(32, 32))\n",
    "    img_array = np.asarray(img)\n",
    "    images.append(img_array)\n",
    "\n",
    "images = np.asarray(images)\n",
    "print('images.shape = ', images.shape)"
   ]
  },
  {
   "cell_type": "markdown",
   "metadata": {},
   "source": [
    "## Section3 データの予測\n",
    "\n",
    "データの準備ができたら*predict*メゾットで予測をします。\n",
    "\n",
    "分類問題の場合、1つの画像につき分類クラス分の長さの配列が返されます。\n",
    "\n",
    "100%を1.0として、配列のi番目の要素に画像がi番目のクラスに分類される確率が返されます。\n",
    "\n",
    "$$\n",
    "result = [p_1, p_2, ..., p_i, ..., p_n]\n",
    "$$\n",
    "\n",
    "$$\n",
    "\\sum_{i=1}^{n} p_i = 1\n",
    "$$\n",
    "\n",
    "また、3.14e-02という表記は、$3.14 \\times 10^{-2}$と同じ意味です。"
   ]
  },
  {
   "cell_type": "code",
   "execution_count": null,
   "metadata": {},
   "outputs": [],
   "source": [
    "result = model.predict(images)\n",
    "\n",
    "for i in range(len(result)):\n",
    "    print('{} : {}'.format(files[i], result[i]))"
   ]
  },
  {
   "cell_type": "markdown",
   "metadata": {},
   "source": [
    "次にそれぞれの画像がどのクラスに分類されたか確認しましょう。\n",
    "\n",
    "CIFAR-10では、0～9のラベルは次のように対応しています。\n",
    "\n",
    "|ラベル|物体|\n",
    "|:-:|:-:|\n",
    "|0|飛行機|\n",
    "|1|車|\n",
    "|2|鳥|\n",
    "|3|猫|\n",
    "|4|鹿|\n",
    "|5|犬|\n",
    "|6|蛙|\n",
    "|7|馬|\n",
    "|8|船|\n",
    "|9|トラック|\n",
    "\n",
    "それぞれの画像に対する確率の最大値を探して、その要素に対応するラベルを表示します。"
   ]
  },
  {
   "cell_type": "code",
   "execution_count": null,
   "metadata": {},
   "outputs": [],
   "source": [
    "classes = ['plane', 'car', 'bird', 'cat', 'deer', 'dog', 'frog', 'horse', 'ship', 'truck']\n",
    "\n",
    "# 最大要素を探す\n",
    "for i in range(len(result)):\n",
    "    max_num = 0\n",
    "    for j in range(10):\n",
    "        if(result[i][j] > result[i][max_num]):\n",
    "            max_num = j\n",
    "    print('{} : {}'.format(files[i], classes[max_num]))"
   ]
  },
  {
   "cell_type": "markdown",
   "metadata": {},
   "source": [
    "Copyright © 2020 Hibiki SAIGYO All RIghts Reserved."
   ]
  }
 ],
 "metadata": {
  "kernelspec": {
   "display_name": "Python 3",
   "language": "python",
   "name": "python3"
  },
  "language_info": {
   "codemirror_mode": {
    "name": "ipython",
    "version": 3
   },
   "file_extension": ".py",
   "mimetype": "text/x-python",
   "name": "python",
   "nbconvert_exporter": "python",
   "pygments_lexer": "ipython3",
   "version": "3.7.7"
  }
 },
 "nbformat": 4,
 "nbformat_minor": 4
}
