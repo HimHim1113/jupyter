{
 "cells": [
  {
   "cell_type": "markdown",
   "metadata": {},
   "source": [
    "# Lesson5 回帰タスクにチャレンジしよう"
   ]
  },
  {
   "cell_type": "markdown",
   "metadata": {},
   "source": [
    "## OUTLINE\n",
    "\n",
    "- Section1 データの準備\n",
    "- Section2 モデルの構築\n",
    "- Section3 学習、結果の表示"
   ]
  },
  {
   "cell_type": "markdown",
   "metadata": {},
   "source": [
    "## Section1 データの準備\n",
    "\n",
    "回帰タスクのチャレンジを始めるときに、Kerasには**boston_housing**というデータセットが存在します。\n",
    "\n",
    "boston_housingとは1970年代のボストン郊外地域の不動産物件に関するデータで、、ある地域の平均物件価格と部屋の数や築年数といった物件情報、犯罪率や黒人比率などの人口統計に関する情報が付属しています。\n",
    "\n",
    "つまり、ある地域の不動産の特色を使って、その地域の平均物件価格を予測する問題です。"
   ]
  },
  {
   "cell_type": "code",
   "execution_count": 1,
   "metadata": {},
   "outputs": [
    {
     "name": "stdout",
     "output_type": "stream",
     "text": [
      "(404, 13)\n",
      "(404,)\n",
      "(102, 13)\n",
      "(102,)\n"
     ]
    }
   ],
   "source": [
    "from tensorflow.keras.datasets import boston_housing\n",
    "(X_train, Y_train), (X_test, Y_test) = boston_housing.load_data()\n",
    "\n",
    "print(X_train.shape)\n",
    "print(Y_train.shape)\n",
    "print(X_test.shape)\n",
    "print(Y_test.shape)"
   ]
  },
  {
   "cell_type": "markdown",
   "metadata": {},
   "source": [
    "次にこのデータを正規化します。"
   ]
  },
  {
   "cell_type": "code",
   "execution_count": 2,
   "metadata": {},
   "outputs": [],
   "source": [
    "import numpy as np\n",
    "from scipy.stats import zscore\n",
    "\n",
    "X_train = np.array(zscore(X_train), np.float32)\n",
    "X_test = np.array(zscore(X_test), np.float32)\n",
    "Y_train = np.array(Y_train, np.float32)\n",
    "Y_test = np.array(Y_test, np.float32)"
   ]
  },
  {
   "cell_type": "markdown",
   "metadata": {},
   "source": [
    "## Section2 モデルの構築"
   ]
  },
  {
   "cell_type": "code",
   "execution_count": 3,
   "metadata": {},
   "outputs": [
    {
     "name": "stdout",
     "output_type": "stream",
     "text": [
      "Model: \"sequential\"\n",
      "_________________________________________________________________\n",
      "Layer (type)                 Output Shape              Param #   \n",
      "=================================================================\n",
      "dense (Dense)                (None, 64)                896       \n",
      "_________________________________________________________________\n",
      "batch_normalization (BatchNo (None, 64)                256       \n",
      "_________________________________________________________________\n",
      "leaky_re_lu (LeakyReLU)      (None, 64)                0         \n",
      "_________________________________________________________________\n",
      "dropout (Dropout)            (None, 64)                0         \n",
      "_________________________________________________________________\n",
      "dense_1 (Dense)              (None, 64)                4160      \n",
      "_________________________________________________________________\n",
      "batch_normalization_1 (Batch (None, 64)                256       \n",
      "_________________________________________________________________\n",
      "activation (Activation)      (None, 64)                0         \n",
      "_________________________________________________________________\n",
      "dropout_1 (Dropout)          (None, 64)                0         \n",
      "_________________________________________________________________\n",
      "dense_2 (Dense)              (None, 1)                 65        \n",
      "=================================================================\n",
      "Total params: 5,633\n",
      "Trainable params: 5,377\n",
      "Non-trainable params: 256\n",
      "_________________________________________________________________\n"
     ]
    }
   ],
   "source": [
    "from tensorflow.keras.models import Sequential\n",
    "from tensorflow.keras.layers import Dense, BatchNormalization, Dropout, Activation, LeakyReLU\n",
    "from tensorflow.keras.optimizers import SGD\n",
    "\n",
    "model = Sequential()\n",
    "model.add(Dense(64, input_shape=(X_train.shape[1],)))\n",
    "model.add(BatchNormalization())\n",
    "model.add(LeakyReLU())\n",
    "model.add(Dropout(0.1))\n",
    "model.add(Dense(64))\n",
    "model.add(BatchNormalization())\n",
    "model.add(Activation('relu'))\n",
    "model.add(Dropout(0.1))\n",
    "model.add(Dense(1))\n",
    "\n",
    "model.summary()\n",
    "\n",
    "sgd = SGD(lr=0.0001, momentum=0.2)\n",
    "model.compile(optimizer=sgd, loss='mse', metrics=['mae'])"
   ]
  },
  {
   "cell_type": "markdown",
   "metadata": {},
   "source": [
    "## Section3 学習、結果の表示"
   ]
  },
  {
   "cell_type": "code",
   "execution_count": 4,
   "metadata": {},
   "outputs": [
    {
     "name": "stdout",
     "output_type": "stream",
     "text": [
      "Train on 404 samples, validate on 102 samples\n",
      "Epoch 1/100\n",
      "404/404 [==============================] - 2s 5ms/sample - loss: 550.3918 - mae: 21.7218 - val_loss: 597.2839 - val_mae: 22.7549\n",
      "Epoch 2/100\n",
      "404/404 [==============================] - 0s 165us/sample - loss: 513.1191 - mae: 20.9558 - val_loss: 573.7544 - val_mae: 22.2835\n",
      "Epoch 3/100\n",
      "404/404 [==============================] - 0s 144us/sample - loss: 473.6494 - mae: 20.1056 - val_loss: 547.5688 - val_mae: 21.7578\n",
      "Epoch 4/100\n",
      "404/404 [==============================] - 0s 140us/sample - loss: 440.9793 - mae: 19.3574 - val_loss: 519.2889 - val_mae: 21.1801\n",
      "Epoch 5/100\n",
      "404/404 [==============================] - 0s 137us/sample - loss: 406.0957 - mae: 18.5864 - val_loss: 488.9162 - val_mae: 20.5512\n",
      "Epoch 6/100\n",
      "404/404 [==============================] - 0s 145us/sample - loss: 372.3427 - mae: 17.7544 - val_loss: 456.9084 - val_mae: 19.8731\n",
      "Epoch 7/100\n",
      "404/404 [==============================] - 0s 135us/sample - loss: 339.1871 - mae: 16.9671 - val_loss: 423.2762 - val_mae: 19.1389\n",
      "Epoch 8/100\n",
      "404/404 [==============================] - 0s 150us/sample - loss: 306.7365 - mae: 16.0949 - val_loss: 389.2111 - val_mae: 18.3714\n",
      "Epoch 9/100\n",
      "404/404 [==============================] - 0s 155us/sample - loss: 280.0387 - mae: 15.3534 - val_loss: 354.9500 - val_mae: 17.5629\n",
      "Epoch 10/100\n",
      "404/404 [==============================] - 0s 154us/sample - loss: 250.7304 - mae: 14.5480 - val_loss: 321.7136 - val_mae: 16.7347\n",
      "Epoch 11/100\n",
      "404/404 [==============================] - 0s 153us/sample - loss: 227.8830 - mae: 13.7748 - val_loss: 291.3107 - val_mae: 15.9345\n",
      "Epoch 12/100\n",
      "404/404 [==============================] - 0s 151us/sample - loss: 199.3999 - mae: 12.8950 - val_loss: 262.2289 - val_mae: 15.1224\n",
      "Epoch 13/100\n",
      "404/404 [==============================] - 0s 160us/sample - loss: 179.0044 - mae: 12.1282 - val_loss: 235.0175 - val_mae: 14.3077\n",
      "Epoch 14/100\n",
      "404/404 [==============================] - 0s 165us/sample - loss: 158.9745 - mae: 11.3391 - val_loss: 209.9250 - val_mae: 13.5052\n",
      "Epoch 15/100\n",
      "404/404 [==============================] - 0s 147us/sample - loss: 140.5824 - mae: 10.5962 - val_loss: 187.1239 - val_mae: 12.7597\n",
      "Epoch 16/100\n",
      "404/404 [==============================] - 0s 148us/sample - loss: 128.1273 - mae: 10.0456 - val_loss: 166.9546 - val_mae: 12.0509\n",
      "Epoch 17/100\n",
      "404/404 [==============================] - 0s 150us/sample - loss: 116.4898 - mae: 9.3214 - val_loss: 149.2237 - val_mae: 11.3799\n",
      "Epoch 18/100\n",
      "404/404 [==============================] - 0s 145us/sample - loss: 104.9714 - mae: 8.7843 - val_loss: 132.2535 - val_mae: 10.6817\n",
      "Epoch 19/100\n",
      "404/404 [==============================] - 0s 155us/sample - loss: 90.9593 - mae: 8.1168 - val_loss: 118.1663 - val_mae: 10.0575\n",
      "Epoch 20/100\n",
      "404/404 [==============================] - 0s 137us/sample - loss: 80.0593 - mae: 7.5138 - val_loss: 105.9590 - val_mae: 9.4822\n",
      "Epoch 21/100\n",
      "404/404 [==============================] - 0s 135us/sample - loss: 72.1822 - mae: 7.1384 - val_loss: 94.9756 - val_mae: 8.9137\n",
      "Epoch 22/100\n",
      "404/404 [==============================] - 0s 153us/sample - loss: 61.9447 - mae: 6.5102 - val_loss: 85.2288 - val_mae: 8.3745\n",
      "Epoch 23/100\n",
      "404/404 [==============================] - 0s 153us/sample - loss: 56.4454 - mae: 6.0521 - val_loss: 76.1718 - val_mae: 7.8231\n",
      "Epoch 24/100\n",
      "404/404 [==============================] - 0s 136us/sample - loss: 51.7302 - mae: 5.7368 - val_loss: 68.1145 - val_mae: 7.3028\n",
      "Epoch 25/100\n",
      "404/404 [==============================] - 0s 153us/sample - loss: 46.0294 - mae: 5.3327 - val_loss: 61.9145 - val_mae: 6.8746\n",
      "Epoch 26/100\n",
      "404/404 [==============================] - 0s 153us/sample - loss: 40.0912 - mae: 5.0071 - val_loss: 56.2882 - val_mae: 6.4531\n",
      "Epoch 27/100\n",
      "404/404 [==============================] - 0s 160us/sample - loss: 42.7752 - mae: 5.0338 - val_loss: 51.0472 - val_mae: 6.0063\n",
      "Epoch 28/100\n",
      "404/404 [==============================] - 0s 153us/sample - loss: 32.7009 - mae: 4.4021 - val_loss: 47.1436 - val_mae: 5.6713\n",
      "Epoch 29/100\n",
      "404/404 [==============================] - 0s 160us/sample - loss: 36.8944 - mae: 4.4462 - val_loss: 44.1158 - val_mae: 5.3959\n",
      "Epoch 30/100\n",
      "404/404 [==============================] - 0s 153us/sample - loss: 33.9026 - mae: 4.4172 - val_loss: 41.8968 - val_mae: 5.1525\n",
      "Epoch 31/100\n",
      "404/404 [==============================] - 0s 150us/sample - loss: 28.8910 - mae: 4.0935 - val_loss: 38.9710 - val_mae: 4.8604\n",
      "Epoch 32/100\n",
      "404/404 [==============================] - 0s 138us/sample - loss: 25.6387 - mae: 3.8840 - val_loss: 37.1041 - val_mae: 4.6434\n",
      "Epoch 33/100\n",
      "404/404 [==============================] - 0s 156us/sample - loss: 28.2566 - mae: 3.9049 - val_loss: 35.2628 - val_mae: 4.4334\n",
      "Epoch 34/100\n",
      "404/404 [==============================] - 0s 150us/sample - loss: 27.3261 - mae: 3.7980 - val_loss: 33.7450 - val_mae: 4.2628\n",
      "Epoch 35/100\n",
      "404/404 [==============================] - 0s 149us/sample - loss: 24.6012 - mae: 3.6677 - val_loss: 32.8373 - val_mae: 4.1672\n",
      "Epoch 36/100\n",
      "404/404 [==============================] - 0s 139us/sample - loss: 22.0324 - mae: 3.5537 - val_loss: 31.6626 - val_mae: 4.0574\n",
      "Epoch 37/100\n",
      "404/404 [==============================] - 0s 161us/sample - loss: 19.9436 - mae: 3.3114 - val_loss: 31.2402 - val_mae: 4.0180\n",
      "Epoch 38/100\n",
      "404/404 [==============================] - 0s 144us/sample - loss: 25.3179 - mae: 3.7624 - val_loss: 30.8091 - val_mae: 3.9610\n",
      "Epoch 39/100\n",
      "404/404 [==============================] - 0s 144us/sample - loss: 23.8945 - mae: 3.6448 - val_loss: 29.4829 - val_mae: 3.8355\n",
      "Epoch 40/100\n",
      "404/404 [==============================] - 0s 145us/sample - loss: 23.4043 - mae: 3.4733 - val_loss: 29.1863 - val_mae: 3.8019\n",
      "Epoch 41/100\n",
      "404/404 [==============================] - 0s 146us/sample - loss: 20.6607 - mae: 3.3389 - val_loss: 28.3900 - val_mae: 3.6820\n",
      "Epoch 42/100\n",
      "404/404 [==============================] - 0s 143us/sample - loss: 19.8791 - mae: 3.2582 - val_loss: 27.8202 - val_mae: 3.6439\n",
      "Epoch 43/100\n",
      "404/404 [==============================] - 0s 145us/sample - loss: 18.7523 - mae: 3.1772 - val_loss: 27.4384 - val_mae: 3.5823\n",
      "Epoch 44/100\n",
      "404/404 [==============================] - 0s 141us/sample - loss: 20.5798 - mae: 3.3400 - val_loss: 27.5838 - val_mae: 3.5916\n",
      "Epoch 45/100\n",
      "404/404 [==============================] - 0s 138us/sample - loss: 22.1284 - mae: 3.4055 - val_loss: 27.9787 - val_mae: 3.5937\n",
      "Epoch 46/100\n",
      "404/404 [==============================] - 0s 155us/sample - loss: 16.8441 - mae: 2.9897 - val_loss: 26.9137 - val_mae: 3.5013\n",
      "Epoch 47/100\n",
      "404/404 [==============================] - 0s 137us/sample - loss: 18.2485 - mae: 3.1014 - val_loss: 26.7877 - val_mae: 3.4905\n",
      "Epoch 48/100\n",
      "404/404 [==============================] - 0s 144us/sample - loss: 19.9780 - mae: 3.3214 - val_loss: 27.0313 - val_mae: 3.5005\n",
      "Epoch 49/100\n",
      "404/404 [==============================] - 0s 194us/sample - loss: 19.1892 - mae: 3.2467 - val_loss: 26.9238 - val_mae: 3.4731\n",
      "Epoch 50/100\n",
      "404/404 [==============================] - 0s 186us/sample - loss: 18.8966 - mae: 3.2715 - val_loss: 25.9964 - val_mae: 3.3821\n",
      "Epoch 51/100\n",
      "404/404 [==============================] - 0s 147us/sample - loss: 19.9296 - mae: 3.2121 - val_loss: 25.6150 - val_mae: 3.3674\n",
      "Epoch 52/100\n",
      "404/404 [==============================] - 0s 144us/sample - loss: 18.6942 - mae: 3.1951 - val_loss: 26.4062 - val_mae: 3.4558\n",
      "Epoch 53/100\n",
      "404/404 [==============================] - 0s 153us/sample - loss: 20.5983 - mae: 3.4173 - val_loss: 26.4218 - val_mae: 3.4394\n",
      "Epoch 54/100\n",
      "404/404 [==============================] - 0s 144us/sample - loss: 17.9872 - mae: 3.2219 - val_loss: 26.3759 - val_mae: 3.4159\n",
      "Epoch 55/100\n",
      "404/404 [==============================] - 0s 135us/sample - loss: 20.8246 - mae: 3.2974 - val_loss: 26.0954 - val_mae: 3.4018\n",
      "Epoch 56/100\n",
      "404/404 [==============================] - 0s 157us/sample - loss: 18.4857 - mae: 3.2144 - val_loss: 25.6417 - val_mae: 3.3575\n",
      "Epoch 57/100\n",
      "404/404 [==============================] - 0s 167us/sample - loss: 15.4866 - mae: 3.0440 - val_loss: 25.7944 - val_mae: 3.3454\n",
      "Epoch 58/100\n",
      "404/404 [==============================] - 0s 161us/sample - loss: 18.0066 - mae: 3.1240 - val_loss: 25.7435 - val_mae: 3.3520\n"
     ]
    },
    {
     "name": "stdout",
     "output_type": "stream",
     "text": [
      "Epoch 59/100\n",
      "404/404 [==============================] - 0s 170us/sample - loss: 22.8205 - mae: 3.4911 - val_loss: 25.4218 - val_mae: 3.3869\n",
      "Epoch 60/100\n",
      "404/404 [==============================] - 0s 139us/sample - loss: 19.4802 - mae: 3.2926 - val_loss: 25.0955 - val_mae: 3.3563\n",
      "Epoch 61/100\n",
      "404/404 [==============================] - 0s 154us/sample - loss: 17.2114 - mae: 3.1543 - val_loss: 25.0963 - val_mae: 3.3599\n",
      "Epoch 62/100\n",
      "404/404 [==============================] - 0s 171us/sample - loss: 17.4514 - mae: 3.1345 - val_loss: 25.0707 - val_mae: 3.3436\n",
      "Epoch 63/100\n",
      "404/404 [==============================] - 0s 188us/sample - loss: 20.8818 - mae: 3.4171 - val_loss: 25.1510 - val_mae: 3.3631\n",
      "Epoch 64/100\n",
      "404/404 [==============================] - 0s 167us/sample - loss: 17.7906 - mae: 2.9975 - val_loss: 25.2993 - val_mae: 3.3413\n",
      "Epoch 65/100\n",
      "404/404 [==============================] - 0s 175us/sample - loss: 15.5119 - mae: 2.9476 - val_loss: 25.3767 - val_mae: 3.3564\n",
      "Epoch 66/100\n",
      "404/404 [==============================] - 0s 131us/sample - loss: 17.1472 - mae: 3.1446 - val_loss: 25.1625 - val_mae: 3.3216\n",
      "Epoch 67/100\n",
      "404/404 [==============================] - 0s 146us/sample - loss: 19.3496 - mae: 3.1280 - val_loss: 24.8284 - val_mae: 3.2968\n",
      "Epoch 68/100\n",
      "404/404 [==============================] - 0s 148us/sample - loss: 19.1345 - mae: 3.1932 - val_loss: 24.3117 - val_mae: 3.2674\n",
      "Epoch 69/100\n",
      "404/404 [==============================] - 0s 150us/sample - loss: 17.4858 - mae: 3.1669 - val_loss: 24.5479 - val_mae: 3.2958\n",
      "Epoch 70/100\n",
      "404/404 [==============================] - 0s 136us/sample - loss: 18.9880 - mae: 3.3270 - val_loss: 24.1380 - val_mae: 3.2932\n",
      "Epoch 71/100\n",
      "404/404 [==============================] - 0s 138us/sample - loss: 17.9928 - mae: 3.2598 - val_loss: 24.0066 - val_mae: 3.3037\n",
      "Epoch 72/100\n",
      "404/404 [==============================] - 0s 133us/sample - loss: 18.4755 - mae: 3.2397 - val_loss: 24.2104 - val_mae: 3.2889\n",
      "Epoch 73/100\n",
      "404/404 [==============================] - 0s 146us/sample - loss: 17.6476 - mae: 3.0450 - val_loss: 24.1767 - val_mae: 3.2810\n",
      "Epoch 74/100\n",
      "404/404 [==============================] - 0s 145us/sample - loss: 19.6214 - mae: 3.1892 - val_loss: 23.9302 - val_mae: 3.2547\n",
      "Epoch 75/100\n",
      "404/404 [==============================] - 0s 219us/sample - loss: 16.8971 - mae: 3.1360 - val_loss: 24.2909 - val_mae: 3.2776\n",
      "Epoch 76/100\n",
      "404/404 [==============================] - 0s 167us/sample - loss: 18.5209 - mae: 3.1178 - val_loss: 24.3778 - val_mae: 3.2854\n",
      "Epoch 77/100\n",
      "404/404 [==============================] - 0s 161us/sample - loss: 15.7533 - mae: 2.9035 - val_loss: 24.0605 - val_mae: 3.2680\n",
      "Epoch 78/100\n",
      "404/404 [==============================] - 0s 177us/sample - loss: 16.3130 - mae: 2.9882 - val_loss: 23.7227 - val_mae: 3.2772\n",
      "Epoch 79/100\n",
      "404/404 [==============================] - 0s 212us/sample - loss: 16.0821 - mae: 2.8832 - val_loss: 23.9837 - val_mae: 3.3034\n",
      "Epoch 80/100\n",
      "404/404 [==============================] - 0s 166us/sample - loss: 16.7401 - mae: 3.1216 - val_loss: 23.7361 - val_mae: 3.2751\n",
      "Epoch 81/100\n",
      "404/404 [==============================] - 0s 167us/sample - loss: 16.2032 - mae: 3.0392 - val_loss: 23.4684 - val_mae: 3.2139\n",
      "Epoch 82/100\n",
      "404/404 [==============================] - 0s 175us/sample - loss: 17.2968 - mae: 3.0492 - val_loss: 23.3733 - val_mae: 3.2055\n",
      "Epoch 83/100\n",
      "404/404 [==============================] - 0s 173us/sample - loss: 17.4356 - mae: 3.1635 - val_loss: 23.6576 - val_mae: 3.2675\n",
      "Epoch 84/100\n",
      "404/404 [==============================] - 0s 255us/sample - loss: 18.9751 - mae: 3.1744 - val_loss: 23.2080 - val_mae: 3.2008\n",
      "Epoch 85/100\n",
      "404/404 [==============================] - 0s 192us/sample - loss: 17.6267 - mae: 3.0594 - val_loss: 23.3599 - val_mae: 3.2111\n",
      "Epoch 86/100\n",
      "404/404 [==============================] - 0s 211us/sample - loss: 18.8914 - mae: 3.2576 - val_loss: 23.4471 - val_mae: 3.2248\n",
      "Epoch 87/100\n",
      "404/404 [==============================] - 0s 148us/sample - loss: 18.2755 - mae: 3.1271 - val_loss: 23.5435 - val_mae: 3.2206\n",
      "Epoch 88/100\n",
      "404/404 [==============================] - 0s 163us/sample - loss: 17.5053 - mae: 3.0820 - val_loss: 23.7746 - val_mae: 3.2666\n",
      "Epoch 89/100\n",
      "404/404 [==============================] - 0s 169us/sample - loss: 16.8534 - mae: 3.0002 - val_loss: 23.6681 - val_mae: 3.2648\n",
      "Epoch 90/100\n",
      "404/404 [==============================] - 0s 173us/sample - loss: 15.2488 - mae: 3.0305 - val_loss: 23.5481 - val_mae: 3.2517\n",
      "Epoch 91/100\n",
      "404/404 [==============================] - 0s 156us/sample - loss: 15.8389 - mae: 2.9832 - val_loss: 23.2994 - val_mae: 3.2469\n",
      "Epoch 92/100\n",
      "404/404 [==============================] - 0s 149us/sample - loss: 18.0952 - mae: 3.2376 - val_loss: 23.1310 - val_mae: 3.2344\n",
      "Epoch 93/100\n",
      "404/404 [==============================] - 0s 151us/sample - loss: 17.4896 - mae: 3.1135 - val_loss: 23.3495 - val_mae: 3.2235\n",
      "Epoch 94/100\n",
      "404/404 [==============================] - 0s 149us/sample - loss: 15.3728 - mae: 3.0097 - val_loss: 23.2114 - val_mae: 3.2385\n",
      "Epoch 95/100\n",
      "404/404 [==============================] - 0s 136us/sample - loss: 16.1845 - mae: 3.0003 - val_loss: 23.4542 - val_mae: 3.2575\n",
      "Epoch 96/100\n",
      "404/404 [==============================] - 0s 140us/sample - loss: 15.4657 - mae: 2.8843 - val_loss: 23.8644 - val_mae: 3.3085\n",
      "Epoch 97/100\n",
      "404/404 [==============================] - 0s 133us/sample - loss: 17.4495 - mae: 3.1746 - val_loss: 24.0073 - val_mae: 3.2995\n",
      "Epoch 98/100\n",
      "404/404 [==============================] - 0s 143us/sample - loss: 17.8206 - mae: 3.2457 - val_loss: 23.8639 - val_mae: 3.2736\n",
      "Epoch 99/100\n",
      "404/404 [==============================] - 0s 141us/sample - loss: 17.0406 - mae: 3.1100 - val_loss: 23.6550 - val_mae: 3.2686\n",
      "Epoch 100/100\n",
      "404/404 [==============================] - 0s 139us/sample - loss: 18.1773 - mae: 3.3655 - val_loss: 23.6659 - val_mae: 3.2646\n"
     ]
    }
   ],
   "source": [
    "epoch = 100\n",
    "history = model.fit(X_train, Y_train, batch_size=32, validation_data=(X_test, Y_test), epochs=epoch)"
   ]
  },
  {
   "cell_type": "markdown",
   "metadata": {},
   "source": [
    "最後に学習結果を表示しましょう。\n",
    "\n",
    "今回はpandasモジュールの機能を使用します。"
   ]
  },
  {
   "cell_type": "code",
   "execution_count": 17,
   "metadata": {},
   "outputs": [
    {
     "data": {
      "text/plain": [
       "<matplotlib.axes._subplots.AxesSubplot at 0x26761587148>"
      ]
     },
     "execution_count": 17,
     "metadata": {},
     "output_type": "execute_result"
    },
    {
     "data": {
      "image/png": "[encoded data removed]",
      "text/plain": [
       "<Figure size 432x288 with 1 Axes>"
      ]
     },
     "metadata": {
      "needs_background": "light"
     },
     "output_type": "display_data"
    },
    {
     "data": {
      "image/png": "[encoded data removed]",
      "text/plain": [
       "<Figure size 432x288 with 1 Axes>"
      ]
     },
     "metadata": {
      "needs_background": "light"
     },
     "output_type": "display_data"
    }
   ],
   "source": [
    "import pandas as pd\n",
    "\n",
    "result = pd.DataFrame(history.history)\n",
    "result[['loss', 'val_loss']].plot()\n",
    "result[['mae', 'val_mae']].plot()"
   ]
  },
  {
   "cell_type": "markdown",
   "metadata": {},
   "source": [
    "Copyright © 2020 Hibiki SAIGYO All RIghts Reserved."
   ]
  }
 ],
 "metadata": {
  "kernelspec": {
   "display_name": "Python 3",
   "language": "python",
   "name": "python3"
  },
  "language_info": {
   "codemirror_mode": {
    "name": "ipython",
    "version": 3
   },
   "file_extension": ".py",
   "mimetype": "text/x-python",
   "name": "python",
   "nbconvert_exporter": "python",
   "pygments_lexer": "ipython3",
   "version": "3.7.7"
  }
 },
 "nbformat": 4,
 "nbformat_minor": 4
}
